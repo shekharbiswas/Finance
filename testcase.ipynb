{
 "cells": [
  {
   "cell_type": "code",
   "execution_count": null,
   "metadata": {},
   "outputs": [],
   "source": [
    "import time  # to simulate a real time data, time loop\n",
    "import yfinance as yf\n",
    "import matplotlib.pyplot as plt\n",
    "from matplotlib.pyplot import figure\n",
    "import yahoo_fin.stock_info as si\n",
    "import numpy as np  # np mean, np random\n",
    "import pandas as pd  # read csv, df manipulation\n",
    "import plotly.express as px  # interactive charts\n",
    "import streamlit as st  # 🎈 data web app development\n",
    "import datetime\n",
    "from datetime import date\n",
    "import plotly.express as px\n",
    "\n",
    "\n",
    "df = pd.read_csv('https://raw.githubusercontent.com/shekharbiswas/Finance/main/stock_recom/SBIN.csv')"
   ]
  }
 ],
 "metadata": {
  "language_info": {
   "name": "python"
  }
 },
 "nbformat": 4,
 "nbformat_minor": 2
}
